{
  "nbformat": 4,
  "nbformat_minor": 0,
  "metadata": {
    "colab": {
      "name": "Chatbot_using_chatterbot.ipynb",
      "provenance": [],
      "authorship_tag": "ABX9TyMwzvtlVu14n7iOZbTUd5uY",
      "include_colab_link": true
    },
    "kernelspec": {
      "name": "python3",
      "display_name": "Python 3"
    }
  },
  "cells": [
    {
      "cell_type": "markdown",
      "metadata": {
        "id": "view-in-github",
        "colab_type": "text"
      },
      "source": [
        "<a href=\"https://colab.research.google.com/github/Vicks-2019/Chatbot/blob/main/Chatbot_using_chatterbot.ipynb\" target=\"_parent\"><img src=\"https://colab.research.google.com/assets/colab-badge.svg\" alt=\"Open In Colab\"/></a>"
      ]
    },
    {
      "cell_type": "code",
      "metadata": {
        "colab": {
          "base_uri": "https://localhost:8080/"
        },
        "id": "Pren-SDmfSre",
        "outputId": "02a99a73-9849-4c9d-8198-b7fadfb4b3cf"
      },
      "source": [
        "pip install chatterbot"
      ],
      "execution_count": 1,
      "outputs": [
        {
          "output_type": "stream",
          "text": [
            "Collecting chatterbot\n",
            "\u001b[?25l  Downloading https://files.pythonhosted.org/packages/7c/21/85c2b114bd9dfabdd46ba58fc4519acdaed45d8c70898d40079e37a45e67/ChatterBot-1.0.8-py2.py3-none-any.whl (63kB)\n",
            "\r\u001b[K     |█████▏                          | 10kB 16.1MB/s eta 0:00:01\r\u001b[K     |██████████▎                     | 20kB 22.5MB/s eta 0:00:01\r\u001b[K     |███████████████▌                | 30kB 23.0MB/s eta 0:00:01\r\u001b[K     |████████████████████▋           | 40kB 18.8MB/s eta 0:00:01\r\u001b[K     |█████████████████████████▊      | 51kB 11.3MB/s eta 0:00:01\r\u001b[K     |███████████████████████████████ | 61kB 10.0MB/s eta 0:00:01\r\u001b[K     |████████████████████████████████| 71kB 5.7MB/s \n",
            "\u001b[?25hCollecting mathparse<0.2,>=0.1\n",
            "  Downloading https://files.pythonhosted.org/packages/c3/e5/4910fb85950cb960fcf3f5aabe1c8e55f5c9201788a1c1302b570a7e1f84/mathparse-0.1.2-py3-none-any.whl\n",
            "Requirement already satisfied: python-dateutil<2.9,>=2.8 in /usr/local/lib/python3.6/dist-packages (from chatterbot) (2.8.1)\n",
            "Requirement already satisfied: sqlalchemy<1.4,>=1.3 in /usr/local/lib/python3.6/dist-packages (from chatterbot) (1.3.20)\n",
            "Requirement already satisfied: pytz in /usr/local/lib/python3.6/dist-packages (from chatterbot) (2018.9)\n",
            "Requirement already satisfied: six>=1.5 in /usr/local/lib/python3.6/dist-packages (from python-dateutil<2.9,>=2.8->chatterbot) (1.15.0)\n",
            "Installing collected packages: mathparse, chatterbot\n",
            "Successfully installed chatterbot-1.0.8 mathparse-0.1.2\n"
          ],
          "name": "stdout"
        }
      ]
    },
    {
      "cell_type": "code",
      "metadata": {
        "id": "vvtEyijvfcPy"
      },
      "source": [
        "#Importing modules\n",
        "from chatterbot import ChatBot\n",
        "from chatterbot.trainers import ListTrainer\n",
        "from chatterbot.trainers import ChatterBotCorpusTrainer"
      ],
      "execution_count": 2,
      "outputs": []
    },
    {
      "cell_type": "code",
      "metadata": {
        "id": "YhmVU-iwfhsR"
      },
      "source": [
        "BankBot = ChatBot(name = 'BankBot',\n",
        "                  read_only = False,                  \n",
        "                  logic_adapters = [\"chatterbot.logic.BestMatch\"],                 \n",
        "                  storage_adapter = \"chatterbot.storage.SQLStorageAdapter\")"
      ],
      "execution_count": 3,
      "outputs": []
    },
    {
      "cell_type": "code",
      "metadata": {
        "colab": {
          "base_uri": "https://localhost:8080/"
        },
        "id": "hbGvdxE6ha9e",
        "outputId": "2308baf5-aaee-410b-fb20-69fc38316088"
      },
      "source": [
        "!git clone https://github.com/gunthercox/chatterbot-corpus.git"
      ],
      "execution_count": 8,
      "outputs": [
        {
          "output_type": "stream",
          "text": [
            "Cloning into 'chatterbot-corpus'...\n",
            "remote: Enumerating objects: 2310, done.\u001b[K\n",
            "remote: Total 2310 (delta 0), reused 0 (delta 0), pack-reused 2310\n",
            "Receiving objects: 100% (2310/2310), 548.25 KiB | 307.00 KiB/s, done.\n",
            "Resolving deltas: 100% (1374/1374), done.\n"
          ],
          "name": "stdout"
        }
      ]
    },
    {
      "cell_type": "code",
      "metadata": {
        "colab": {
          "base_uri": "https://localhost:8080/"
        },
        "id": "DWXrZxEpfnfz",
        "outputId": "a0c0f255-040a-4886-8f64-34c16ab895df"
      },
      "source": [
        "corpus_trainer = ChatterBotCorpusTrainer(BankBot)\n",
        "corpus_trainer.train(\"/content/chatterbot-corpus/chatterbot_corpus/data/english\")"
      ],
      "execution_count": 11,
      "outputs": [
        {
          "output_type": "stream",
          "text": [
            "Training ai.yml: [####################] 100%\n",
            "Training botprofile.yml: [####################] 100%\n",
            "Training computers.yml: [####################] 100%\n",
            "Training conversations.yml: [####################] 100%\n",
            "Training emotion.yml: [####################] 100%\n",
            "Training food.yml: [####################] 100%\n",
            "Training gossip.yml: [####################] 100%\n",
            "Training greetings.yml: [####################] 100%\n",
            "Training health.yml: [####################] 100%\n",
            "Training history.yml: [####################] 100%\n",
            "Training humor.yml: [####################] 100%\n",
            "Training literature.yml: [####################] 100%\n",
            "Training money.yml: [####################] 100%\n",
            "Training movies.yml: [####################] 100%\n",
            "Training politics.yml: [####################] 100%\n",
            "Training psychology.yml: [####################] 100%\n",
            "Training science.yml: [####################] 100%\n",
            "Training sports.yml: [####################] 100%\n",
            "Training trivia.yml: [####################] 100%\n"
          ],
          "name": "stdout"
        }
      ]
    },
    {
      "cell_type": "code",
      "metadata": {
        "colab": {
          "base_uri": "https://localhost:8080/"
        },
        "id": "KQyyrrsDkQRa",
        "outputId": "2aa2d344-14c7-4a0b-ca4e-3c3035c71d54"
      },
      "source": [
        "greet_conversation = [\n",
        "    \"Hello\",\n",
        "    \"Hi there!\",\n",
        "    \"How are you doing?\",\n",
        "    \"I'm doing great.\",\n",
        "    \"That is good to hear\",\n",
        "    \"Thank you.\",\n",
        "    \"You're welcome.\"\n",
        "]\n",
        " \n",
        "open_timings_conversation = [\n",
        "    \"What time does the Bank open?\",\n",
        "    \"The Bank opens at 9AM\",\n",
        "]\n",
        " \n",
        "close_timings_conversation = [\n",
        "    \"What time does the Bank close?\",\n",
        "    \"The Bank closes at 5PM\",\n",
        "]\n",
        "\n",
        "#Initializing Trainer Object\n",
        "trainer = ListTrainer(BankBot)\n",
        "\n",
        "#Training BankBot\n",
        "trainer.train(greet_conversation)\n",
        "trainer.train(open_timings_conversation)\n",
        "trainer.train(close_timings_conversation)"
      ],
      "execution_count": 15,
      "outputs": [
        {
          "output_type": "stream",
          "text": [
            "List Trainer: [####################] 100%\n",
            "List Trainer: [####################] 100%\n",
            "List Trainer: [####################] 100%\n"
          ],
          "name": "stdout"
        }
      ]
    },
    {
      "cell_type": "code",
      "metadata": {
        "colab": {
          "base_uri": "https://localhost:8080/"
        },
        "id": "i3xOs-magbSE",
        "outputId": "bda69068-bda5-4130-edee-355e96841387"
      },
      "source": [
        "while (True):\n",
        "    user_input = input()\n",
        "    if (user_input == 'quit'):\n",
        "        break\n",
        "    response = BankBot.get_response(user_input)\n",
        "    print (response)"
      ],
      "execution_count": null,
      "outputs": [
        {
          "output_type": "stream",
          "text": [
            "hello\n",
            "Hi\n",
            "what time does bank open?\n",
            "You are not immortal\n",
            "What time does the Bank open?\n",
            "The Bank opens at 9AM\n",
            "What time does the Bank close?\n",
            "The Bank closes at 5PM\n"
          ],
          "name": "stdout"
        }
      ]
    },
    {
      "cell_type": "code",
      "metadata": {
        "id": "gzTVUKJAjoW3"
      },
      "source": [
        ""
      ],
      "execution_count": null,
      "outputs": []
    }
  ]
}